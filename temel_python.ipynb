{
 "cells": [
  {
   "cell_type": "markdown",
   "id": "cd0aca18",
   "metadata": {},
   "source": [
    "# Temel Python Proje  \n",
    "  \n",
    "#### SORU 1  \n",
    "\n",
    "1. Bir listeyi düzleştiren (flatten) fonksiyon yazın. Elemanları birden çok katmanlı listelerden ([[3],2] gibi) oluşabileceği gibi, non-scalar verilerden de oluşabilir.  "
   ]
  },
  {
   "cell_type": "code",
   "execution_count": 27,
   "id": "837e44cf",
   "metadata": {},
   "outputs": [],
   "source": [
    "def flatten(l):\n",
    "    print(\"Flattened list:\")\n",
    "    flat_l = []\n",
    "    while l:\n",
    "        temp = l.pop()\n",
    "        if type(temp) == list:\n",
    "            l.extend(temp)\n",
    "        else:\n",
    "            flat_l.append(temp)\n",
    "    print(flat_l[::-1])"
   ]
  },
  {
   "cell_type": "code",
   "execution_count": 28,
   "id": "6243174b",
   "metadata": {},
   "outputs": [
    {
     "name": "stdout",
     "output_type": "stream",
     "text": [
      "Flattened list:\n",
      "[1, 'a', 'cat', 2, 3, 'dog', 4, 5]\n"
     ]
    }
   ],
   "source": [
    "flatten([[1,'a',['cat'],2],[[[3]],'dog'],4,5])"
   ]
  },
  {
   "cell_type": "markdown",
   "id": "8c3ab7e1",
   "metadata": {},
   "source": [
    "#### SORU 2  \n",
    "\n",
    "2. Verilen listenin içindeki elemanları tersine döndüren bir fonksiyon yazın. Eğer listenin içindeki elemanlar da liste içeriyorsa onların elemanlarını da tersine döndürün."
   ]
  },
  {
   "cell_type": "code",
   "execution_count": 9,
   "id": "1ec437e8",
   "metadata": {},
   "outputs": [],
   "source": [
    "def reverse(l):\n",
    "    print(\"Reversed list:\")\n",
    "    reverse_l = []\n",
    "    while l:\n",
    "        temp = l.pop()\n",
    "        if type(temp) == list:\n",
    "            reverse_l.append(temp[::-1])\n",
    "        else:\n",
    "            reverse_l.append(temp)\n",
    "    print(reverse_l)"
   ]
  },
  {
   "cell_type": "code",
   "execution_count": 30,
   "id": "25b8defc",
   "metadata": {
    "scrolled": true
   },
   "outputs": [
    {
     "name": "stdout",
     "output_type": "stream",
     "text": [
      "Reversed list:\n",
      "[[7, 6, 5], [4, 3], [2, 1]]\n"
     ]
    }
   ],
   "source": [
    "reverse([[1, 2], [3, 4], [5, 6, 7]])"
   ]
  },
  {
   "cell_type": "code",
   "execution_count": 32,
   "id": "d90c2a09",
   "metadata": {},
   "outputs": [
    {
     "name": "stdout",
     "output_type": "stream",
     "text": [
      "Reversed list:\n",
      "['a', 2021, [3, 2, 1], ['cat', 'dog']]\n"
     ]
    }
   ],
   "source": [
    "reverse([['dog','cat'], [1,2,3], 2021, 'a'])"
   ]
  }
 ],
 "metadata": {
  "kernelspec": {
   "display_name": "Python 3",
   "language": "python",
   "name": "python3"
  },
  "language_info": {
   "codemirror_mode": {
    "name": "ipython",
    "version": 3
   },
   "file_extension": ".py",
   "mimetype": "text/x-python",
   "name": "python",
   "nbconvert_exporter": "python",
   "pygments_lexer": "ipython3",
   "version": "3.8.8"
  }
 },
 "nbformat": 4,
 "nbformat_minor": 5
}
